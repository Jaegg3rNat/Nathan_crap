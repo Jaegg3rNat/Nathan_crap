{
 "cells": [
  {
   "cell_type": "markdown",
   "metadata": {},
   "source": [
    "# Ising 2D Solution by Wolff Algorithm"
   ]
  },
  {
   "cell_type": "code",
   "execution_count": 5,
   "metadata": {},
   "outputs": [],
   "source": [
    "import matplotlib.pyplot as plt\n",
    "import numpy as np\n",
    "import random\n",
    "%matplotlib inline\n",
    "import timeit\n",
    "\n",
    "class IsingWolff:\n",
    "    def __init__(self):\n",
    "        \"\"\"Initialization of de Lattice\"\"\"\n",
    "        # set the number of spins in x-direrection, y-direction\n",
    "        self.XSPINS = int(input('How many Xspins?'))\n",
    "        self.YSPINS = int(input('How many Yspins?'))\n",
    "        # set J_ij interaction constant magnitude\n",
    "        self.J = 1.0\n",
    "        # set initial lattice (-1 or 1)\n",
    "        self.S = 2*np.random.randint(2,size =(self.XSPINS,self.YSPINS)) - 1\n",
    "        # set the number of iteration \n",
    "        self.STEPS = 5000\n",
    "        # set tuple (i, j) neighbor\n",
    "        self.NEIGHBOR = {}\n",
    "        for i in range(self.XSPINS):\n",
    "            for j in range(self.YSPINS):\n",
    "                self.NEIGHBOR[(i, j)] = [((i+1)%self.XSPINS, j), ((i-1)%self.XSPINS, j), (i, (j+1)%self.YSPINS), (i, (j-1)%self.YSPINS)]\n",
    "\n",
    "   \n",
    "\n",
    "    def Cluster_Flip(self,rede, p):\n",
    "        \"\"\"Function responsable for define and flip the Cluster one time\"\"\"\n",
    "        # set random coordinate (i, j)\n",
    "        coord = (np.random.randint(self.XSPINS), np.random.randint(self.YSPINS))\n",
    "        # set pocket\n",
    "        pocket = [coord]\n",
    "        # set cluster\n",
    "        cluster = [coord]\n",
    "        # search pocket while pocket is not empty\n",
    "        while pocket != []:\n",
    "            # choose random tuple from pocket\n",
    "            l = random.choice(pocket)\n",
    "            # for loop for neightborhood\n",
    "            for m in self.NEIGHBOR[l]:\n",
    "                # if spins are parallel & (i, j) is not in cluster and r < p, add to pocket & cluster\n",
    "                if rede[m[0]][m[1]] == rede[l[0]][l[1]]:\n",
    "                    if m not in cluster:\n",
    "                        if np.random.rand() < p:\n",
    "                            pocket.append(m)\n",
    "                            cluster.append(m)\n",
    "            # remove choosen (i, j) from pocket list\n",
    "            pocket.remove(l)\n",
    "        # flip spin including cluster\n",
    "        for l in cluster:\n",
    "            rede[l[0]][l[1]] *= -1\n",
    "        \n",
    "        return rede\n",
    "        \n",
    "       \n",
    "\n",
    "    def Plot_Spin(self, n):\n",
    "        # remove previous figure\n",
    "        plt.clf()\n",
    "        # plot color map\n",
    "        plt.imshow(self.S, cmap=plt.cm.PiYG, vmin=-1, vmax=1, animated=True)\n",
    "        # add colorbar\n",
    "        plt.colorbar(ticks=[-1, 1], orientation='vertical')\n",
    "        # set pause interval time\n",
    "        plt.pause(1.0e-6)\n",
    "        # save figure as png format\n",
    "        #plt.savefig('fig'+str(n)+'.png')\n",
    "\n",
    "    def runGrid_Wolff(self):\n",
    "        # set cluster flip probability\n",
    "        rede =self.S\n",
    "        p = 1.0 - np.exp(-2.0*self.J*1/1.9)\n",
    "        \n",
    "        # main loop start \n",
    "        for i in range(self.STEPS):\n",
    "            # plot for especific iteration\n",
    "            if i == 1:      self.Plot_Spin(i);\n",
    "            if i == 100:       self.Plot_Spin(i);\n",
    "            if i == 400:      self.Plot_Spin(i);\n",
    "            if i == 1000:     self.Plot_Spin(i);\n",
    "            if i == 4000:    self.Plot_Spin(i);\n",
    "            \n",
    "            # flip cluster\n",
    "            self.Cluster_Flip(rede,p)\n",
    "            \n",
    "            \n",
    "    def energy2(self,rede):\n",
    "        \n",
    "        '''Energia de uma dada configuração'''\n",
    "        energy = 0\n",
    "        for j in range(len(rede)): \n",
    "            for i in range(len(rede)):\n",
    "                s = rede[i,j]\n",
    "                nb = rede[(i+1)%self.XSPINS,j] + rede[i,(j+1)%self.YSPINS] + rede[(i-1)%self.XSPINS,j] + rede[i,(j-1)%self.YSPINS]\n",
    "                energy += -nb*s\n",
    "        return energy/4\n",
    "    \n",
    "    \n",
    "    \n",
    " #DEFINIR MAGNETIZAÇÃO   \n",
    "    def Mag2(self,rede):\n",
    "        '''Magnetização de uma dada Rede'''\n",
    "        mag = np.sum(rede)\n",
    "        return mag\n",
    "        \n",
    "    def runObser_Wolff(self):\n",
    "        toc = timeit.default_timer()\n",
    "        nt = int(input('Choose How many temperature points in graphic'))\n",
    "        T  = np.linspace(0.4, 3.28, nt);  #Temperatura\n",
    "        E,M,C,X = np.zeros(nt), np.zeros(nt), np.zeros(nt), np.zeros(nt)  #observaveis\n",
    "        n1, n2  = 1.0/(self.STEPS*self.XSPINS*self.YSPINS), 1.0/(self.STEPS*self.STEPS*self.XSPINS*self.YSPINS) \n",
    "        for ii in range(nt):\n",
    "            E1  = E2 =  0\n",
    "            M1 = []\n",
    "            M2 = []\n",
    "            rede =self.S\n",
    "            beta=1.0/T[ii]; beta2=beta*beta; p = 1.0 - np.exp(-2.0*self.J*beta);\n",
    "            \n",
    "            for i in range(self.STEPS):\n",
    "                self.Cluster_Flip(rede,p)       #Monte Carlo Steps  \n",
    "                Ene = self.energy2(rede)     # Calcula a energia\n",
    "                mag = self.Mag2(rede)        # Calcula a magnetização\n",
    "                \n",
    "                E1 = E1 + Ene\n",
    "                E2 = E2 + Ene*Ene\n",
    "                M1.append(abs(mag))\n",
    "                M2.append(mag*mag)        #Mag*Mag\n",
    "                           \n",
    "           \n",
    "            E[ii] = n1*E1\n",
    "            M[ii] = n1*np.sum(M1)\n",
    "            C[ii] = (n1*E2 - n2*E1*E1)*beta2\n",
    "            X[ii] = (n1*np.sum(M2) - n2*np.sum(M1)*np.sum(M1))*beta\n",
    "            \n",
    "        f2 = plt.figure(figsize=(18, 10)); # plot the calculated values    \n",
    "\n",
    "        sp =  f2.add_subplot(2, 2, 1 );\n",
    "        plt.scatter(T, E, s=50, marker='o', color='blue')\n",
    "        plt.xlabel(\"Temperature \", fontsize=20);\n",
    "        plt.ylabel(\"Energy \", fontsize=20);         plt.axis('tight');\n",
    "\n",
    "        sp =  f2.add_subplot(2, 2, 2 );\n",
    "        plt.scatter(T, abs(M), s=50, marker='o', color='lime')\n",
    "        plt.xlabel(\"Temperature \", fontsize=20); \n",
    "        plt.ylabel(\"Magnetization \", fontsize=20);   plt.axis('tight');\n",
    "\n",
    "        sp =  f2.add_subplot(2, 2, 3 );\n",
    "        plt.scatter(T, C, s=50, marker='o', color='red')\n",
    "        plt.xlabel(\"Temperature \", fontsize=20);  \n",
    "        plt.ylabel(\"Specific Heat \", fontsize=20);   plt.axis('tight');   \n",
    "\n",
    "        sp =  f2.add_subplot(2, 2, 4 );\n",
    "        plt.scatter(T, X, s=50, marker='o', color='magenta')\n",
    "        plt.xlabel(\"Temperature \", fontsize=20); \n",
    "        plt.ylabel(\"Susceptibility\", fontsize=20);   plt.axis('tight');\n",
    "        tic = timeit.default_timer()\n",
    "        print(\"Running Time:\",(tic-toc)//60,\"minutes\")\n",
    "\n",
    "\n"
   ]
  },
  {
   "cell_type": "code",
   "execution_count": null,
   "metadata": {},
   "outputs": [],
   "source": [
    "#Call Wolff\n",
    "IW = IsingWolff()\n",
    "#run\n",
    "IW.runObser_Wolff()"
   ]
  },
  {
   "cell_type": "code",
   "execution_count": null,
   "metadata": {},
   "outputs": [
    {
     "name": "stdout",
     "output_type": "stream",
     "text": [
      "How many Xspins?30\n",
      "How many Yspins?30\n"
     ]
    },
    {
     "data": {
      "image/png": "[encoded data removed]",
      "text/plain": [
       "<Figure size 432x288 with 2 Axes>"
      ]
     },
     "metadata": {
      "needs_background": "light"
     },
     "output_type": "display_data"
    },
    {
     "data": {
      "image/png": "[encoded data removed]",
      "text/plain": [
       "<Figure size 432x288 with 2 Axes>"
      ]
     },
     "metadata": {
      "needs_background": "light"
     },
     "output_type": "display_data"
    },
    {
     "data": {
      "image/png": "[encoded data removed]",
      "text/plain": [
       "<Figure size 432x288 with 2 Axes>"
      ]
     },
     "metadata": {
      "needs_background": "light"
     },
     "output_type": "display_data"
    },
    {
     "data": {
      "image/png": "[encoded data removed]",
      "text/plain": [
       "<Figure size 432x288 with 2 Axes>"
      ]
     },
     "metadata": {
      "needs_background": "light"
     },
     "output_type": "display_data"
    }
   ],
   "source": [
    "#run snapshots for a given temperature\n",
    "IW1 = IsingWolff()\n",
    "IW1.runGrid_Wolff()"
   ]
  }
 ],
 "metadata": {
  "kernelspec": {
   "display_name": "Python 3",
   "language": "python",
   "name": "python3"
  },
  "language_info": {
   "codemirror_mode": {
    "name": "ipython",
    "version": 3
   },
   "file_extension": ".py",
   "mimetype": "text/x-python",
   "name": "python",
   "nbconvert_exporter": "python",
   "pygments_lexer": "ipython3",
   "version": "3.8.3"
  }
 },
 "nbformat": 4,
 "nbformat_minor": 4
}
