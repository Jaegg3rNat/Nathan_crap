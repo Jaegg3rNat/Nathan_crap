{
 "cells": [
  {
   "cell_type": "markdown",
   "metadata": {},
   "source": [
    "# Ising 2D Solution by Metropolis Algorithm"
   ]
  },
  {
   "cell_type": "code",
   "execution_count": 2,
   "metadata": {},
   "outputs": [],
   "source": [
    "import numpy as np\n",
    "import math as mt\n",
    "import matplotlib.pyplot as plt\n",
    "%matplotlib inline  \n",
    "import timeit\n",
    "from __future__ import division\n",
    "\n",
    "\n",
    "\n",
    "\n",
    "\n",
    "class Ising_2D_MEMC:\n",
    "    def __init__(self):\n",
    "        self.XSPINS = int(input('How many Xspins?'))\n",
    "        self.YSPINS = int(input('How many Yspins?'))\n",
    "        # set J_ij interaction constant magnitude\n",
    "        self.J = 1.0\n",
    "        # set initial lattice (-1 or 1)\n",
    "        self.S = 2*np.random.randint(2,size =(self.XSPINS,self.YSPINS)) - 1\n",
    "        # set the number of iteration \n",
    "        self.STEPS = 2000\n",
    "\n",
    " \n",
    "    def memc_2d(self,rede,beta):\n",
    "        for j in range(self.XSPINS):\n",
    "            for i in range(self.YSPINS):\n",
    "                a = np.random.randint(self.XSPINS)\n",
    "                b = np.random.randint(self.YSPINS)\n",
    "                s = rede[a,b]\n",
    "                nb = rede[(a+1)%self.XSPINS,b] + rede[(a-1)%self.XSPINS,b]+ rede[a,(b+1)%self.YSPINS] + rede[a,(b-1)%self.YSPINS] \n",
    "                dE = 2*nb*s\n",
    "                if dE< 0:\n",
    "                    s*=-1\n",
    "                elif np.random.random()< np.exp(-dE*beta):\n",
    "                    s*=-1\n",
    "                rede[a,b] = s\n",
    "        return rede\n",
    "                \n",
    "    def energy1(self,rede):\n",
    "        \n",
    "        '''Energia de uma dada configuração'''\n",
    "        energy = 0\n",
    "        for j in range(len(rede)): \n",
    "            for i in range(len(rede)):\n",
    "                s = rede[i,j]\n",
    "                nb = rede[(i+1)%self.XSPINS,j] + rede[i,(j+1)%self.YSPINS] + rede[(i-1)%self.XSPINS,j] + rede[i,(j-1)%self.YSPINS]\n",
    "                energy += -nb*s\n",
    "        return energy/4\n",
    "    \n",
    "    \n",
    "    \n",
    " #DEFINIR MAGNETIZAÇÃO   \n",
    "    def Mag1(self,rede):\n",
    "        '''Magnetização de uma dada Rede'''\n",
    "        mag = np.sum(rede)\n",
    "        return mag\n",
    "    def runObser_ME(self):\n",
    "        toc = timeit.default_timer()\n",
    "        nt = int(input('Choose How many temperature points in graphic'))\n",
    "        T  = np.linspace(0.4, 3.28, nt);  #Temperatura\n",
    "        E,M,C,X = np.zeros(nt), np.zeros(nt), np.zeros(nt), np.zeros(nt)  #observaveis\n",
    "        n1, n2  = 1.0/(self.STEPS*self.XSPINS*self.YSPINS), 1.0/(self.STEPS*self.STEPS*self.XSPINS*self.YSPINS) \n",
    "        for ii in range(nt):\n",
    "            E1=M1=M2  = E2 =  0\n",
    "           \n",
    "            rede =self.S\n",
    "            beta=1.0/T[ii]; beta2=beta*beta; p = 1.0 - np.exp(-2.0*self.J*beta);\n",
    "            \n",
    "            for i in range(self.STEPS):\n",
    "                self.memc_2d(rede,beta)       #Monte Carlo Steps  \n",
    "                Ene = self.energy1(rede)     # Calcula a energia\n",
    "                mag = self.Mag1(rede)        # Calcula a magnetização\n",
    "                \n",
    "                E1 = E1 + Ene\n",
    "                E2 = E2 + Ene*Ene\n",
    "                M1 = M1 + mag\n",
    "                M2 = M2 + mag*mag         #Mag*Mag\n",
    "                           \n",
    "           \n",
    "            E[ii] = n1*E1\n",
    "            M[ii] = n1*M1\n",
    "            C[ii] = (n1*E2 - n2*E1*E1)*beta2\n",
    "            X[ii] = (n1*M2 - n2*M1*M1)*beta\n",
    "            \n",
    "        f2 = plt.figure(figsize=(18, 10)); # plot the calculated values    \n",
    "\n",
    "        sp =  f2.add_subplot(2, 2, 1 );\n",
    "        plt.scatter(T, E, s=50, marker='o', color='blue')\n",
    "        plt.xlabel(\"Temperature \", fontsize=20);\n",
    "        plt.ylabel(\"Energy \", fontsize=20);         plt.axis('tight');\n",
    "\n",
    "        sp =  f2.add_subplot(2, 2, 2 );\n",
    "        plt.scatter(T, abs(M), s=50, marker='o', color='lime')\n",
    "        plt.xlabel(\"Temperature \", fontsize=20); \n",
    "        plt.ylabel(\"Magnetization \", fontsize=20);   plt.axis('tight');\n",
    "\n",
    "        sp =  f2.add_subplot(2, 2, 3 );\n",
    "        plt.scatter(T, C, s=50, marker='o', color='red')\n",
    "        plt.xlabel(\"Temperature \", fontsize=20);  \n",
    "        plt.ylabel(\"Specific Heat \", fontsize=20);   plt.axis('tight');   \n",
    "\n",
    "        sp =  f2.add_subplot(2, 2, 4 );\n",
    "        plt.scatter(T, X, s=50, marker='o', color='magenta')\n",
    "        plt.xlabel(\"Temperature \", fontsize=20); \n",
    "        plt.ylabel(\"Susceptibility\", fontsize=20);   plt.axis('tight');\n",
    "        tic = timeit.default_timer()\n",
    "        print(\"Running Time:\",(tic-toc)//60,\"minutes\")\n",
    "\n",
    "    def Plot(self, n):\n",
    "        # remove previous figure\n",
    "        plt.clf()\n",
    "        # plot color map\n",
    "        plt.imshow(self.S, cmap=plt.cm.PiYG, vmin=-1, vmax=1, animated=True)\n",
    "        # add colorbar\n",
    "        plt.colorbar(ticks=[-1, 1], orientation='vertical')\n",
    "        # set pause interval time\n",
    "        plt.pause(1.0e-6)\n",
    "        # save figure as png format\n",
    "        #plt.savefig('fig'+str(n)+'.png')\n",
    "\n",
    "    def runGrid_Me(self):\n",
    "        rede =self.S\n",
    "        beta = 1/0.4\n",
    "        \n",
    "        # main loop start \n",
    "        for i in range(self.STEPS):\n",
    "            # plot for especific iteration\n",
    "            if i == 1:      self.Plot(i);\n",
    "            if i == 50:       self.Plot(i);\n",
    "            if i == 100:      self.Plot(i);\n",
    "            if i == 1000:     self.Plot(i);\n",
    "            if i == 2000:    self.Plot(i);\n",
    "            \n",
    "            # flip spin\n",
    "            self.memc_2d(rede,beta)\n"
   ]
  },
  {
   "cell_type": "code",
   "execution_count": null,
   "metadata": {},
   "outputs": [],
   "source": [
    "#Call Ising Metropolis 2D\n",
    "IME =Ising_2D_MEMC()\n",
    "#run \n",
    "IME.runObser_ME()"
   ]
  },
  {
   "cell_type": "code",
   "execution_count": null,
   "metadata": {},
   "outputs": [
    {
     "name": "stdout",
     "output_type": "stream",
     "text": [
      "How many Xspins?64\n",
      "How many Yspins?64\n"
     ]
    },
    {
     "data": {
      "image/png": "[encoded data removed]",
      "text/plain": [
       "<Figure size 432x288 with 2 Axes>"
      ]
     },
     "metadata": {
      "needs_background": "light"
     },
     "output_type": "display_data"
    },
    {
     "data": {
      "image/png": "[encoded data removed]",
      "text/plain": [
       "<Figure size 432x288 with 2 Axes>"
      ]
     },
     "metadata": {
      "needs_background": "light"
     },
     "output_type": "display_data"
    },
    {
     "data": {
      "image/png": "[encoded data removed]",
      "text/plain": [
       "<Figure size 432x288 with 2 Axes>"
      ]
     },
     "metadata": {
      "needs_background": "light"
     },
     "output_type": "display_data"
    }
   ],
   "source": [
    "#Call Ising Metropolis 2D\n",
    "IME1 =Ising_2D_MEMC()\n",
    "#run Snapshots\n",
    "IME1.runGrid_Me()"
   ]
  }
 ],
 "metadata": {
  "kernelspec": {
   "display_name": "Python 3",
   "language": "python",
   "name": "python3"
  },
  "language_info": {
   "codemirror_mode": {
    "name": "ipython",
    "version": 3
   },
   "file_extension": ".py",
   "mimetype": "text/x-python",
   "name": "python",
   "nbconvert_exporter": "python",
   "pygments_lexer": "ipython3",
   "version": "3.8.3"
  }
 },
 "nbformat": 4,
 "nbformat_minor": 4
}
