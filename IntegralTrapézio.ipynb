{
 "cells": [
  {
   "cell_type": "code",
   "execution_count": null,
   "metadata": {},
   "outputs": [],
   "source": [
    "# Resolva Integral de Qq função usando o método do Trapézio/ Plote o Gráfico da Função\n",
    "import numpy as np\n",
    "import matplotlib.pyplot as plt\n",
    "import math as mt\n",
    "%matplotlib inline\n",
    "\n",
    "\n",
    "A = float(input('A'))\n",
    "B = float(input('B'))\n",
    "N = 1200   #número de trapézios\n",
    "\n",
    "\n",
    "#defina aqui a função a ser integrada\n",
    "def func(x):\n",
    "    return (x)  \n",
    "\n",
    "#definindo o trapézio\n",
    "def trapezoid(A,B,N): \n",
    "    h = (B-A)/(N-1) \n",
    "    soma = (func(A) + func(B))/2  \n",
    "    for i in range(1,N-1):  #repetição para somar os trapézios\n",
    "        soma += func(A+ i*h)\n",
    "    return h*soma\n",
    "\n",
    "print(trapezoid(A,B,N-1))\n",
    "\n",
    "# Plot do grafico para o f(x)\n",
    "x = np.linspace(A,B,N)\n",
    "fig, ax = plt.subplots()\n",
    "ax.set_xlabel('x')\n",
    "ax.set_ylabel('f(x)')\n",
    "ax.plot(x , func(x))\n"
   ]
  },
  {
   "cell_type": "code",
   "execution_count": null,
   "metadata": {},
   "outputs": [],
   "source": []
  }
 ],
 "metadata": {
  "kernelspec": {
   "display_name": "Python 3",
   "language": "python",
   "name": "python3"
  },
  "language_info": {
   "codemirror_mode": {
    "name": "ipython",
    "version": 3
   },
   "file_extension": ".py",
   "mimetype": "text/x-python",
   "name": "python",
   "nbconvert_exporter": "python",
   "pygments_lexer": "ipython3",
   "version": "3.8.3"
  }
 },
 "nbformat": 4,
 "nbformat_minor": 4
}
